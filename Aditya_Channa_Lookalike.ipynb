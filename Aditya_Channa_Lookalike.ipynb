{
  "nbformat": 4,
  "nbformat_minor": 0,
  "metadata": {
    "colab": {
      "provenance": []
    },
    "kernelspec": {
      "name": "python3",
      "display_name": "Python 3"
    },
    "language_info": {
      "name": "python"
    }
  },
  "cells": [
    {
      "cell_type": "markdown",
      "source": [
        "## Importing Libraries"
      ],
      "metadata": {
        "id": "9NYcH6SLPZ0g"
      }
    },
    {
      "cell_type": "code",
      "execution_count": 8,
      "metadata": {
        "id": "kwfJJMXLL5U_"
      },
      "outputs": [],
      "source": [
        "import pandas as pd\n",
        "from sklearn.metrics.pairwise import cosine_similarity\n",
        "from datetime import datetime"
      ]
    },
    {
      "cell_type": "markdown",
      "source": [
        "## Load data"
      ],
      "metadata": {
        "id": "g2PcxWKDOUnC"
      }
    },
    {
      "cell_type": "code",
      "source": [
        "customers = pd.read_csv(\"Customers.csv\")\n",
        "products = pd.read_csv(\"Products.csv\")"
      ],
      "metadata": {
        "id": "o3fvGx8rNWLX"
      },
      "execution_count": 9,
      "outputs": []
    },
    {
      "cell_type": "markdown",
      "source": [
        "## Preprocess customers data"
      ],
      "metadata": {
        "id": "Dio1zeYROabu"
      }
    },
    {
      "cell_type": "code",
      "source": [
        "customers['SignupDate'] = pd.to_datetime(customers['SignupDate'])\n",
        "min_date = customers['SignupDate'].min()\n",
        "customers['Tenure'] = (customers['SignupDate'] - min_date).dt.days\n",
        "customers = pd.get_dummies(customers, columns=['Region'])"
      ],
      "metadata": {
        "id": "UYUlcI_rNXPo"
      },
      "execution_count": 10,
      "outputs": []
    },
    {
      "cell_type": "markdown",
      "source": [
        "##Creating features and using cosine similarity"
      ],
      "metadata": {
        "id": "DIYLA2_AOo-m"
      }
    },
    {
      "cell_type": "code",
      "source": [
        "features = customers[['Tenure'] + [col for col in customers.columns if 'Region_' in col]]\n",
        "similarity_matrix = cosine_similarity(features)"
      ],
      "metadata": {
        "id": "J8CNXQ_9OpLP"
      },
      "execution_count": 11,
      "outputs": []
    },
    {
      "cell_type": "markdown",
      "source": [
        "##Generating recommandations"
      ],
      "metadata": {
        "id": "3biVNNVlO6WX"
      }
    },
    {
      "cell_type": "code",
      "source": [
        "lookalike_map = {}\n",
        "for idx in range(20):\n",
        "    cust_id = customers.iloc[idx]['CustomerID']\n",
        "    scores = list(enumerate(similarity_matrix[idx]))\n",
        "    scores = sorted(scores, key=lambda x: x[1], reverse=True)[1:4]\n",
        "    lookalike_map[cust_id] = [(customers.iloc[i]['CustomerID'], round(score, 2)) for i, score in scores]"
      ],
      "metadata": {
        "id": "bNttTiUyO5rH"
      },
      "execution_count": 12,
      "outputs": []
    },
    {
      "cell_type": "markdown",
      "source": [
        "## Data Storing\n"
      ],
      "metadata": {
        "id": "P0rBSBJfPK0_"
      }
    },
    {
      "cell_type": "code",
      "source": [
        "pd.DataFrame(lookalike_map.items(), columns=['cust_id', 'lookalikes']).to_csv(\"Aditya_Channa_Lookalike.csv\", index=False)"
      ],
      "metadata": {
        "id": "DaeoGkNGPK8R"
      },
      "execution_count": 13,
      "outputs": []
    }
  ]
}